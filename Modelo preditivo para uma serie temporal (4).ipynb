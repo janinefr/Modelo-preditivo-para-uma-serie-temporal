{
 "cells": [
  {
   "cell_type": "code",
   "execution_count": 4,
   "id": "8b1a3c04",
   "metadata": {},
   "outputs": [],
   "source": [
    "from numpy import *\n",
    "from numpy.linalg import solve\n",
    "import matplotlib.pyplot as pt\n",
    "from sklearn.preprocessing import MinMaxScaler\n",
    "import pandas as pd\n"
   ]
  },
  {
   "cell_type": "code",
   "execution_count": 5,
   "id": "a8bd0a4b",
   "metadata": {},
   "outputs": [
    {
     "data": {
      "text/html": [
       "<div>\n",
       "<style scoped>\n",
       "    .dataframe tbody tr th:only-of-type {\n",
       "        vertical-align: middle;\n",
       "    }\n",
       "\n",
       "    .dataframe tbody tr th {\n",
       "        vertical-align: top;\n",
       "    }\n",
       "\n",
       "    .dataframe thead th {\n",
       "        text-align: right;\n",
       "    }\n",
       "</style>\n",
       "<table border=\"1\" class=\"dataframe\">\n",
       "  <thead>\n",
       "    <tr style=\"text-align: right;\">\n",
       "      <th></th>\n",
       "      <th>Sales</th>\n",
       "    </tr>\n",
       "    <tr>\n",
       "      <th>Month</th>\n",
       "      <th></th>\n",
       "    </tr>\n",
       "  </thead>\n",
       "  <tbody>\n",
       "    <tr>\n",
       "      <th>2000-01-01</th>\n",
       "      <td>266.0</td>\n",
       "    </tr>\n",
       "    <tr>\n",
       "      <th>2000-02-01</th>\n",
       "      <td>145.9</td>\n",
       "    </tr>\n",
       "    <tr>\n",
       "      <th>2000-03-01</th>\n",
       "      <td>183.1</td>\n",
       "    </tr>\n",
       "    <tr>\n",
       "      <th>2000-04-01</th>\n",
       "      <td>119.3</td>\n",
       "    </tr>\n",
       "    <tr>\n",
       "      <th>2000-05-01</th>\n",
       "      <td>180.3</td>\n",
       "    </tr>\n",
       "  </tbody>\n",
       "</table>\n",
       "</div>"
      ],
      "text/plain": [
       "            Sales\n",
       "Month            \n",
       "2000-01-01  266.0\n",
       "2000-02-01  145.9\n",
       "2000-03-01  183.1\n",
       "2000-04-01  119.3\n",
       "2000-05-01  180.3"
      ]
     },
     "execution_count": 5,
     "metadata": {},
     "output_type": "execute_result"
    }
   ],
   "source": [
    "def data(T, m, datas):\n",
    "    Dataset = zeros((T-M,M+1))\n",
    "    j = 0\n",
    "    for i in range(T-M):\n",
    "        Dataset[i,:M] = datas[j : j + M]\n",
    "        Dataset[i, M] = datas[j + M]\n",
    "        j = j + 1\n",
    "\n",
    "    A = Dataset[:,:M]\n",
    "    y = Dataset[:, M]\n",
    "    return A,y\n",
    "\n",
    "df = pd.read_csv(\"shampoo.csv\")\n",
    "df.Month = pd.to_datetime(df.Month)\n",
    "df.set_index(\"Month\", inplace=True)\n",
    "df.head()"
   ]
  },
  {
   "cell_type": "code",
   "execution_count": 6,
   "id": "e0802734",
   "metadata": {},
   "outputs": [
    {
     "data": {
      "image/png": "[encoded data removed]",
      "text/plain": [
       "<Figure size 432x288 with 1 Axes>"
      ]
     },
     "metadata": {
      "needs_background": "light"
     },
     "output_type": "display_data"
    }
   ],
   "source": [
    "x = array(df[\"Sales\"])\n",
    "T = len(x)\n",
    "M = 6\n",
    "\n",
    "A, b = data(T, M, x)\n",
    "theta = solve(A.T@A, A.T@b)\n",
    "fpred = lambda z: z@theta\n",
    "ypred = fpred(A)\n",
    "n = T-M\n",
    "pt.plot(arange(n),b[-n:],'or',label=\"data\")\n",
    "pt.plot(arange(n),ypred[-n:],'xb', label=\"predict\")\n",
    "#pp.plot(arange(n),y[-n:],'or',arange(n),ypred[-n:],'ob')\n",
    "pt.legend();"
   ]
  },
  {
   "cell_type": "code",
   "execution_count": null,
   "id": "10c57545",
   "metadata": {},
   "outputs": [],
   "source": []
  },
  {
   "cell_type": "code",
   "execution_count": null,
   "id": "1b5722c6",
   "metadata": {},
   "outputs": [],
   "source": [
    "\n"
   ]
  },
  {
   "cell_type": "code",
   "execution_count": null,
   "id": "8aaa8f5b",
   "metadata": {},
   "outputs": [],
   "source": []
  },
  {
   "cell_type": "code",
   "execution_count": null,
   "id": "3d23125c",
   "metadata": {},
   "outputs": [],
   "source": []
  },
  {
   "cell_type": "code",
   "execution_count": null,
   "id": "97240a67",
   "metadata": {},
   "outputs": [],
   "source": [
    "\n"
   ]
  },
  {
   "cell_type": "code",
   "execution_count": null,
   "id": "1a243b62",
   "metadata": {},
   "outputs": [],
   "source": []
  }
 ],
 "metadata": {
  "kernelspec": {
   "display_name": "Python 3",
   "language": "python",
   "name": "python3"
  },
  "language_info": {
   "codemirror_mode": {
    "name": "ipython",
    "version": 3
   },
   "file_extension": ".py",
   "mimetype": "text/x-python",
   "name": "python",
   "nbconvert_exporter": "python",
   "pygments_lexer": "ipython3",
   "version": "3.8.8"
  }
 },
 "nbformat": 4,
 "nbformat_minor": 5
}
